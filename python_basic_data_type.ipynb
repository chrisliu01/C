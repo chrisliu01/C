{
  "nbformat": 4,
  "nbformat_minor": 0,
  "metadata": {
    "colab": {
      "name": "python-basic-data-type.ipynb",
      "version": "0.3.2",
      "provenance": [],
      "collapsed_sections": [],
      "include_colab_link": true
    },
    "kernelspec": {
      "name": "python3",
      "display_name": "Python 3"
    }
  },
  "cells": [
    {
      "cell_type": "markdown",
      "metadata": {
        "id": "view-in-github",
        "colab_type": "text"
      },
      "source": [
        "<a href=\"https://colab.research.google.com/github/chrisliu01/C/blob/master/python_basic_data_type.ipynb\" target=\"_parent\"><img src=\"https://colab.research.google.com/assets/colab-badge.svg\" alt=\"Open In Colab\"/></a>"
      ]
    },
    {
      "metadata": {
        "id": "NTpgrXEz4623",
        "colab_type": "text"
      },
      "cell_type": "markdown",
      "source": [
        "\n",
        "# **Python Basics 1: Variables and Data types**\n",
        "In Python we like to assign values to variables. Why? Because it makes our code better — more flexible, reusable and understandable. At the same time one of the trickiest things in coding is exactly this “assignment concept.” When we refer to something, that refers to something, that refers to something… well, understanding that needs some brain capacity. But don’t you worry, you will get used to it – and you will love it!\n",
        "\n",
        "\n",
        "**Let’s see how it works!**\n",
        "\n",
        "Say we have a dog (‘Freddie’), and we would like to store some of his attributes (name, age, is_vaccinated, year_of_born, etc.) of this dog in Python variables! We will type this into a Jupyter notebook cell:\n",
        "\n",
        "dog_name = 'Freddie'\n",
        "\n",
        "age = 9\n",
        "\n",
        "is_vaccinated = True\n",
        "\n",
        "height = 1.1\n",
        "\n",
        "birth_year = 2001\n"
      ]
    },
    {
      "metadata": {
        "id": "qRPT5NNj5CMd",
        "colab_type": "code",
        "colab": {}
      },
      "cell_type": "code",
      "source": [
        "dog_name = 'Freddie'\n",
        "\n",
        "age = 9\n",
        "\n",
        "is_vaccinated = True\n",
        "\n",
        "height = 1.1\n",
        "\n",
        "birth_year = 2001"
      ],
      "execution_count": 0,
      "outputs": []
    },
    {
      "metadata": {
        "id": "4wzs2ANP7in9",
        "colab_type": "text"
      },
      "cell_type": "markdown",
      "source": [
        "*Note: we could have done this one per cell. But this all-in-one solution was easier and more elegant.*\n",
        "\n",
        "From now on, if we type these variables, the assigned values will be returned:"
      ]
    },
    {
      "metadata": {
        "id": "RzUf7o_97otl",
        "colab_type": "code",
        "colab": {
          "base_uri": "https://localhost:8080/",
          "height": 35
        },
        "outputId": "f34c3748-1acb-4d7f-ee89-ea54cfefccef"
      },
      "cell_type": "code",
      "source": [
        "dog_name"
      ],
      "execution_count": 2,
      "outputs": [
        {
          "output_type": "execute_result",
          "data": {
            "text/plain": [
              "'Freddie'"
            ]
          },
          "metadata": {
            "tags": []
          },
          "execution_count": 2
        }
      ]
    },
    {
      "metadata": {
        "id": "Q_WLV7Ua7zyd",
        "colab_type": "code",
        "colab": {
          "base_uri": "https://localhost:8080/",
          "height": 35
        },
        "outputId": "1a994bbc-b8c4-4a6e-a07a-3be8bfc255ca"
      },
      "cell_type": "code",
      "source": [
        "age"
      ],
      "execution_count": 3,
      "outputs": [
        {
          "output_type": "execute_result",
          "data": {
            "text/plain": [
              "9"
            ]
          },
          "metadata": {
            "tags": []
          },
          "execution_count": 3
        }
      ]
    },
    {
      "metadata": {
        "id": "F1JncQa1771t",
        "colab_type": "text"
      },
      "cell_type": "markdown",
      "source": [
        "Just like in SQL, in Python we have different data types.\n",
        "\n",
        "\n",
        "For instance the dog_name variable holds a string: 'Freddie'. In Python 3 a string is a sequence of Unicode characters (eg. numbers, letters, punctuation, etc.), so it can have numbers or exclamation marks or almost anything (eg. ‘R2-D2’ is a valid string). In Python it’s super easy to identify a string as it’s usually between quotation marks.\n",
        "\n",
        "The age and the birth_year variables store integers (9 and 2001), which is a numeric Python data type. Another numeric data type is float, in our example: height, which is 1.1.\n",
        "\n",
        "The is_vaccinated’s True value is a so called Boolean value. Booleans can be only True or False."
      ]
    },
    {
      "metadata": {
        "id": "blRNVueg8HRN",
        "colab_type": "code",
        "colab": {}
      },
      "cell_type": "code",
      "source": [
        "dog_name = 'Eddie'"
      ],
      "execution_count": 0,
      "outputs": []
    },
    {
      "metadata": {
        "id": "5b4VtE_N8K59",
        "colab_type": "code",
        "colab": {
          "base_uri": "https://localhost:8080/",
          "height": 35
        },
        "outputId": "4b349b31-78e8-4d9a-c108-de850c6992bb"
      },
      "cell_type": "code",
      "source": [
        "dog_name"
      ],
      "execution_count": 5,
      "outputs": [
        {
          "output_type": "execute_result",
          "data": {
            "text/plain": [
              "'Eddie'"
            ]
          },
          "metadata": {
            "tags": []
          },
          "execution_count": 5
        }
      ]
    }
  ]
}