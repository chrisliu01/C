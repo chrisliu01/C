{
  "nbformat": 4,
  "nbformat_minor": 0,
  "metadata": {
    "colab": {
      "name": "python-basic-data-type.ipynb",
      "version": "0.3.2",
      "provenance": [],
      "include_colab_link": true
    },
    "kernelspec": {
      "name": "python3",
      "display_name": "Python 3"
    }
  },
  "cells": [
    {
      "cell_type": "markdown",
      "metadata": {
        "id": "view-in-github",
        "colab_type": "text"
      },
      "source": [
        "<a href=\"https://colab.research.google.com/github/chrisliu01/C/blob/master/python_basic_data_type.ipynb\" target=\"_parent\"><img src=\"https://colab.research.google.com/assets/colab-badge.svg\" alt=\"Open In Colab\"/></a>"
      ]
    },
    {
      "metadata": {
        "id": "NTpgrXEz4623",
        "colab_type": "text"
      },
      "cell_type": "markdown",
      "source": [
        "\n",
        "# **Python Basics 1: Variables and Data types**\n",
        "In Python we like to assign values to variables. Why? Because it makes our code better — more flexible, reusable and understandable. At the same time one of the trickiest things in coding is exactly this “assignment concept.” When we refer to something, that refers to something, that refers to something… well, understanding that needs some brain capacity. But don’t you worry, you will get used to it – and you will love it!\n",
        "\n",
        "\n",
        "**Let’s see how it works!**\n",
        "\n",
        "Say we have a dog (‘Freddie’), and we would like to store some of his attributes (name, age, is_vaccinated, year_of_born, etc.) of this dog in Python variables! We will type this into a Jupyter notebook cell:\n",
        "\n",
        "dog_name = 'Freddie'\n",
        "\n",
        "age = 9\n",
        "\n",
        "is_vaccinated = True\n",
        "\n",
        "height = 1.1\n",
        "\n",
        "birth_year = 2001\n"
      ]
    },
    {
      "metadata": {
        "id": "qRPT5NNj5CMd",
        "colab_type": "code",
        "colab": {}
      },
      "cell_type": "code",
      "source": [
        ""
      ],
      "execution_count": 0,
      "outputs": []
    }
  ]
}