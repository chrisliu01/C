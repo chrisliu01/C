{
  "nbformat": 4,
  "nbformat_minor": 0,
  "metadata": {
    "colab": {
      "name": "Review-Data_Wrangling-py-v2.ipynb",
      "version": "0.3.2",
      "provenance": [],
      "include_colab_link": true
    },
    "kernelspec": {
      "display_name": "Python 3",
      "language": "python",
      "name": "python3"
    }
  },
  "cells": [
    {
      "cell_type": "markdown",
      "metadata": {
        "id": "view-in-github",
        "colab_type": "text"
      },
      "source": [
        "<a href=\"https://colab.research.google.com/github/chrisliu01/C/blob/master/Review_Data_Wrangling_py_v2.ipynb\" target=\"_parent\"><img src=\"https://colab.research.google.com/assets/colab-badge.svg\" alt=\"Open In Colab\"/></a>"
      ]
    },
    {
      "metadata": {
        "id": "Feu94r6o02nS",
        "colab_type": "text"
      },
      "cell_type": "markdown",
      "source": [
        "# Module 2 : Data Wrangling"
      ]
    },
    {
      "metadata": {
        "id": "xOnWnMlt02nU",
        "colab_type": "text"
      },
      "cell_type": "markdown",
      "source": [
        "### Welcome!\n",
        "\n",
        "By the end of this notebook, you will have learned the basics of Data Wrangling! "
      ]
    },
    {
      "metadata": {
        "id": "ZKtI3JAq02nV",
        "colab_type": "text"
      },
      "cell_type": "markdown",
      "source": [
        "## Table of content\n",
        "\n",
        "<div class=\"alert alert-block alert-info\" style=\"margin-top: 20px\">\n",
        "<li><a href=\"#ref1\">Identify and handle missing values</a>\n",
        "<ul><div><a href=\"#ref2\">- Identify missing values</a></div>\n",
        "<div><a href=\"#ref3\">- Deal with missing values</a></div>\n",
        "<div><a href=\"#ref4\">- Correct data format</a></div></ul></li>\n",
        "<p></p>\n",
        "<li><a href=\"#ref5\">Data standardization</a></li>\n",
        "<li><a href=\"#ref6\">Data Normalization (centring/scaling)</a></li>\n",
        "<li><a href=\"#ref7\">Binning</a></li>\n",
        "<li><a href=\"#ref8\">Indicator variable</a></li>\n",
        "<p></p>\n",
        "Estimated Time Needed: <strong>30 min</strong>\n",
        "</div>\n",
        " \n",
        "<hr>"
      ]
    },
    {
      "metadata": {
        "id": "SMnfhxR-02nW",
        "colab_type": "text"
      },
      "cell_type": "markdown",
      "source": [
        "## What is the purpose of Data Wrangling?"
      ]
    },
    {
      "metadata": {
        "id": "ueW8MQqZ02nX",
        "colab_type": "text"
      },
      "cell_type": "markdown",
      "source": [
        "Data Wrangling is the process of converting data from the initial format to a format that may be better for analysis."
      ]
    },
    {
      "metadata": {
        "id": "qluqVI2x02nY",
        "colab_type": "text"
      },
      "cell_type": "markdown",
      "source": [
        "### What is the fuel consumption (L/100k) rate for the disel car?"
      ]
    },
    {
      "metadata": {
        "id": "B90WKkEb02na",
        "colab_type": "text"
      },
      "cell_type": "markdown",
      "source": [
        "### Import data\n",
        "\n",
        "You can find the \"Automobile Data Set\" from the following link: https://archive.ics.uci.edu/ml/machine-learning-databases/autos/imports-85.data. We will be using this data set throughout this course.\n"
      ]
    },
    {
      "metadata": {
        "id": "4acqin5Y02nb",
        "colab_type": "text"
      },
      "cell_type": "markdown",
      "source": [
        "#### Import pandas "
      ]
    },
    {
      "metadata": {
        "id": "R1zHl2zV02nc",
        "colab_type": "code",
        "colab": {}
      },
      "cell_type": "code",
      "source": [
        "import pandas as pd"
      ],
      "execution_count": 0,
      "outputs": []
    },
    {
      "metadata": {
        "id": "hc8gy99R02nf",
        "colab_type": "text"
      },
      "cell_type": "markdown",
      "source": [
        "## Reading the data set from the URL and adding the related headers."
      ]
    },
    {
      "metadata": {
        "id": "NluZ-THH02ng",
        "colab_type": "text"
      },
      "cell_type": "markdown",
      "source": [
        "#### URL of dataset"
      ]
    },
    {
      "metadata": {
        "id": "nympJ5-K02nh",
        "colab_type": "code",
        "colab": {}
      },
      "cell_type": "code",
      "source": [
        "filename = 'https://archive.ics.uci.edu/ml/machine-learning-databases/autos/imports-85.data'"
      ],
      "execution_count": 0,
      "outputs": []
    },
    {
      "metadata": {
        "id": "3JHwOu4I02nl",
        "colab_type": "text"
      },
      "cell_type": "markdown",
      "source": [
        "#### Python list \"headers\" containing name of headers "
      ]
    },
    {
      "metadata": {
        "id": "9mOCuRvY02nm",
        "colab_type": "code",
        "colab": {}
      },
      "cell_type": "code",
      "source": [
        "headers = [\"symboling\",\"normalized-losses\",\"make\",\"fuel-type\",\"aspiration\", \"num-of-doors\",\"body-style\",\n",
        "         \"drive-wheels\",\"engine-location\",\"wheel-base\", \"length\",\"width\",\"height\",\"curb-weight\",\"engine-type\",\n",
        "         \"num-of-cylinders\", \"engine-size\",\"fuel-system\",\"bore\",\"stroke\",\"compression-ratio\",\"horsepower\",\n",
        "         \"peak-rpm\",\"city-mpg\",\"highway-mpg\",\"price\"]"
      ],
      "execution_count": 0,
      "outputs": []
    },
    {
      "metadata": {
        "id": "mwl5Old-02np",
        "colab_type": "text"
      },
      "cell_type": "markdown",
      "source": [
        "Use the Pandas method **read_csv()** to load the data from the web address. Set the parameter  \"names\" equal to the Python list \"headers\"."
      ]
    },
    {
      "metadata": {
        "id": "wI4tc5Mv02nr",
        "colab_type": "code",
        "colab": {}
      },
      "cell_type": "code",
      "source": [
        "df = pd.read_csv(filename, names = headers)"
      ],
      "execution_count": 0,
      "outputs": []
    },
    {
      "metadata": {
        "id": "FeZhh3ve02nu",
        "colab_type": "text"
      },
      "cell_type": "markdown",
      "source": [
        " Use the method **head()** to display the first five rows of the dataframe. "
      ]
    },
    {
      "metadata": {
        "id": "HGf5Nyim02nv",
        "colab_type": "code",
        "colab": {}
      },
      "cell_type": "code",
      "source": [
        "# To see what the data set looks like, we'll use the head() method.\n",
        "df.head()"
      ],
      "execution_count": 0,
      "outputs": []
    },
    {
      "metadata": {
        "id": "1cvVGZUn02nz",
        "colab_type": "text"
      },
      "cell_type": "markdown",
      "source": [
        "As we can see, several question marks appeared in the dataframe; those are missing values which may hinder our further analysis. \n",
        "<div>So, how do we identify all those missing values and deal with them?</div> \n",
        "\n",
        "\n",
        "**How to work with missing data?**\n",
        "\n",
        "Steps for working with missing data:\n",
        "1. identify missing data\n",
        "2. deal with missing data\n",
        "3. correct data format"
      ]
    },
    {
      "metadata": {
        "id": "m0-xbdvs02n0",
        "colab_type": "text"
      },
      "cell_type": "markdown",
      "source": [
        "<a id=\"ref1\"></a>\n",
        "# 1. Identify and handle missing values\n",
        "\n",
        "\n",
        "<a id=\"ref2\"></a>\n",
        "### Convert \"?\" to NaN\n",
        "In car dataset, missing data comes with the question mark \"?\".\n",
        "We replace \"?\" to NaN (Not a Number), which is Python's default missing value marker for reasons of computational speed and convenience. Here we use function:\n",
        " <pre>.replace(A, B, inplace = True) </pre>\n",
        "to replace A by B"
      ]
    },
    {
      "metadata": {
        "id": "0vz1W-So02n1",
        "colab_type": "code",
        "colab": {}
      },
      "cell_type": "code",
      "source": [
        "import numpy as np\n",
        "\n",
        "# replace \"?\" to NaN\n",
        "df.replace(\"?\", np.nan, inplace = True)\n",
        "df.head(5)"
      ],
      "execution_count": 0,
      "outputs": []
    },
    {
      "metadata": {
        "id": "4BwghDBa02n3",
        "colab_type": "text"
      },
      "cell_type": "markdown",
      "source": [
        "### Evaluating for Missing Data\n",
        "\n",
        "The missing values are converted to Python's default . We use Python's built-in functions to identify these missing values. There are two methods to detect missing data:\n",
        "1.  **.isnull()**\n",
        "2.  **.notnull()**\n",
        "\n",
        "The output is a boolean value indicating whether the passed in argument value are in fact missing data.\n"
      ]
    },
    {
      "metadata": {
        "id": "mqxQf_KU02n4",
        "colab_type": "code",
        "colab": {}
      },
      "cell_type": "code",
      "source": [
        "missing_data = df.isnull()\n",
        "missing_data.head(5)"
      ],
      "execution_count": 0,
      "outputs": []
    },
    {
      "metadata": {
        "id": "VARx4W4e02n8",
        "colab_type": "text"
      },
      "cell_type": "markdown",
      "source": [
        "\"True\" stands for missing value, while \"False\" stands for not missing value."
      ]
    },
    {
      "metadata": {
        "id": "2EeK0FXc02n9",
        "colab_type": "text"
      },
      "cell_type": "markdown",
      "source": [
        "### Count missing values in each column\n",
        "Using a for loop in Python, we can quickly figure out the number of missing values in each column. As mentioned above, \"True\" represents a missing value, \"False\"  means the value is present in the dataset.  In the body of the for loop the method  \".value_couts()\"  counts the number of \"True\" values. "
      ]
    },
    {
      "metadata": {
        "id": "o8siYucq02n-",
        "colab_type": "code",
        "colab": {}
      },
      "cell_type": "code",
      "source": [
        "for column in missing_data.columns.values.tolist():\n",
        "    print(column)\n",
        "    print (missing_data[column].value_counts())\n",
        "    print(\"\")    "
      ],
      "execution_count": 0,
      "outputs": []
    },
    {
      "metadata": {
        "id": "Aj27izMg02oB",
        "colab_type": "text"
      },
      "cell_type": "markdown",
      "source": [
        "Based on the summary above, each column has 205 rows of data, seven columns containing missing data:\n",
        "\n",
        "1. \"normalized-losses\": 41 missing data\n",
        "2. \"num-of-doors\": 2 missing data\n",
        "3. \"bore\": 4 missing data\n",
        "4. \"stroke\" : 4 missing data\n",
        "5. \"horsepower\": 2 missing data\n",
        "6. \"peak-rpm\": 2 missing data\n",
        "7. \"price\": 4 missing data"
      ]
    },
    {
      "metadata": {
        "id": "24SHoucx02oB",
        "colab_type": "text"
      },
      "cell_type": "markdown",
      "source": [
        "<a id=\"ref3\"></a>\n",
        "## Deal with missing data\n",
        "**How to deal with missing data?**\n",
        "\n",
        "    \n",
        "    1. drop data \n",
        "        a. drop the whole row\n",
        "        b. drop the whole column\n",
        "    2. replace data\n",
        "        a. replace it by mean\n",
        "        b. replace it by frequency\n",
        "        c. replace it based on other functions"
      ]
    },
    {
      "metadata": {
        "id": "WEqjb8gs02oC",
        "colab_type": "text"
      },
      "cell_type": "markdown",
      "source": [
        "Whole columns should be dropped only if most entries in the column are empty. In our dataset, none of the columns are empty enough to drop entirely.\n",
        "We have some freedom in choosing which method to replace data; however, some methods may seem more reasonable than others. We will apply each method to many different columns:\n",
        "\n",
        "**Replace by mean:**\n",
        "\n",
        "    \"normalized-losses\": 41 missing data, replace them by mean\n",
        "    \"stroke\": 4 missing data, replace them by mean\n",
        "    \"bore\": 4 missing data, replace them by mean\n",
        "    \"horsepower\": 2 missing data, replace them by mean\n",
        "    \"peak-rpm\": 2 missing data, replace them by mean\n",
        "    \n",
        "**Replace by frequency:**\n",
        "\n",
        "    \"num-of-doors\": 2 missing data, replace them with \"four\". \n",
        "        * Reason: 84% sedans is four doors. Since four doors is most frequent, it is most likely to \n",
        "    \n",
        "\n",
        "**Drop the whole row:**\n",
        "\n",
        "    \"price\": 4 missing data, simply delete the whole row\n",
        "        * Reason: price is what we want to predict. Any data entry without price data cannot be used for prediction; therefore they are not useful to us"
      ]
    },
    {
      "metadata": {
        "id": "9L5oTAmv02oD",
        "colab_type": "text"
      },
      "cell_type": "markdown",
      "source": [
        "#### Calculate the average of the column "
      ]
    },
    {
      "metadata": {
        "id": "esrXtOR002oE",
        "colab_type": "code",
        "colab": {}
      },
      "cell_type": "code",
      "source": [
        "avg_1 = df[\"normalized-losses\"].astype(\"float\").mean(axis = 0)"
      ],
      "execution_count": 0,
      "outputs": []
    },
    {
      "metadata": {
        "id": "Yo7UWQ2L02oG",
        "colab_type": "text"
      },
      "cell_type": "markdown",
      "source": [
        "#### Replace \"NaN\" by mean value in \"normalized-losses\" column"
      ]
    },
    {
      "metadata": {
        "collapsed": true,
        "id": "dI33SNyg02oH",
        "colab_type": "code",
        "colab": {}
      },
      "cell_type": "code",
      "source": [
        "df[\"normalized-losses\"].replace(np.nan, avg_1, inplace = True)"
      ],
      "execution_count": 0,
      "outputs": []
    },
    {
      "metadata": {
        "id": "vwu4PlGc02oK",
        "colab_type": "text"
      },
      "cell_type": "markdown",
      "source": [
        "#### Calculate the mean value for 'bore' column"
      ]
    },
    {
      "metadata": {
        "collapsed": true,
        "id": "qy8_u63R02oL",
        "colab_type": "code",
        "colab": {}
      },
      "cell_type": "code",
      "source": [
        "avg_2=df['bore'].astype('float').mean(axis=0)"
      ],
      "execution_count": 0,
      "outputs": []
    },
    {
      "metadata": {
        "id": "4eh4c0OZ02oO",
        "colab_type": "text"
      },
      "cell_type": "markdown",
      "source": [
        "#### Replace NaN by mean value"
      ]
    },
    {
      "metadata": {
        "collapsed": true,
        "id": "yK76hNGn02oP",
        "colab_type": "code",
        "colab": {}
      },
      "cell_type": "code",
      "source": [
        "df['bore'].replace(np.nan, avg_2, inplace= True)"
      ],
      "execution_count": 0,
      "outputs": []
    },
    {
      "metadata": {
        "id": "2UWRHMoD02oV",
        "colab_type": "text"
      },
      "cell_type": "markdown",
      "source": [
        "<div class=\"alert alert-danger alertdanger\" style=\"margin-top: 20px\">\n",
        "<h1> Question  #1: </h1>\n",
        "\n",
        "<b>According to the example above, replace NaN in \"stroke\" column by mean.</b>\n",
        "</div>"
      ]
    },
    {
      "metadata": {
        "id": "UZsHEwcA02oc",
        "colab_type": "code",
        "colab": {}
      },
      "cell_type": "code",
      "source": [
        ""
      ],
      "execution_count": 0,
      "outputs": []
    },
    {
      "metadata": {
        "id": "WchZf6wE02om",
        "colab_type": "text"
      },
      "cell_type": "markdown",
      "source": [
        "<div class=\"alert alert-danger alertdanger\" style=\"margin-top: 20px\">\n",
        "<h1> Question #1 Answer: </h1>\n",
        "<b>Run the code below! Did you get the right code?</b>\n",
        "</div>"
      ]
    },
    {
      "metadata": {
        "id": "hTFwbEwt02on",
        "colab_type": "text"
      },
      "cell_type": "markdown",
      "source": [
        "  <div align=\"right\">\n",
        "<a href=\"#q1\" class=\"btn btn-default\" data-toggle=\"collapse\">Click here for the solution</a>\n",
        "\n",
        "</div>\n",
        "<div id=\"q1\" class=\"collapse\">\n",
        "```\n",
        "# calculate the mean vaule for \"stroke\" column\n",
        "avg_3 = df[\"stroke\"].astype(\"float\").mean(axis = 0)\n",
        "\n",
        "# replace NaN by mean value in \"stroke\" column\n",
        "df[\"stroke\"].replace(np.nan, avg_3, inplace = True)\n",
        "```\n",
        "</div>\n",
        "\n"
      ]
    },
    {
      "metadata": {
        "id": "P3xCbtW-02op",
        "colab_type": "text"
      },
      "cell_type": "markdown",
      "source": [
        "#### Calculate the mean value for the  'horsepower' column:"
      ]
    },
    {
      "metadata": {
        "collapsed": true,
        "id": "gN6c4MQZ02or",
        "colab_type": "code",
        "colab": {}
      },
      "cell_type": "code",
      "source": [
        "avg_4=df['horsepower'].astype('float').mean(axis=0)"
      ],
      "execution_count": 0,
      "outputs": []
    },
    {
      "metadata": {
        "id": "givkjSrK02ov",
        "colab_type": "text"
      },
      "cell_type": "markdown",
      "source": [
        "#### Replace \"NaN\" by mean value :"
      ]
    },
    {
      "metadata": {
        "collapsed": true,
        "id": "rB8lbYCb02ow",
        "colab_type": "code",
        "colab": {}
      },
      "cell_type": "code",
      "source": [
        "df['horsepower'].replace(np.nan, avg_4, inplace= True)"
      ],
      "execution_count": 0,
      "outputs": []
    },
    {
      "metadata": {
        "id": "2KOvEpK002o0",
        "colab_type": "text"
      },
      "cell_type": "markdown",
      "source": [
        "#### Calculate the mean value for 'peak-rpm' column:"
      ]
    },
    {
      "metadata": {
        "collapsed": true,
        "id": "F49jqMm102o1",
        "colab_type": "code",
        "colab": {}
      },
      "cell_type": "code",
      "source": [
        "avg_5=df['peak-rpm'].astype('float').mean(axis=0)"
      ],
      "execution_count": 0,
      "outputs": []
    },
    {
      "metadata": {
        "id": "S9ubjHjP02o4",
        "colab_type": "text"
      },
      "cell_type": "markdown",
      "source": [
        "#### Replace NaN by mean value:"
      ]
    },
    {
      "metadata": {
        "collapsed": true,
        "id": "jRFtUX_I02o6",
        "colab_type": "code",
        "colab": {}
      },
      "cell_type": "code",
      "source": [
        "df['peak-rpm'].replace(np.nan, avg_5, inplace= True)"
      ],
      "execution_count": 0,
      "outputs": []
    },
    {
      "metadata": {
        "id": "zeubQPgc02o9",
        "colab_type": "text"
      },
      "cell_type": "markdown",
      "source": [
        "To see which values are present in a particular column, we can use the \".value_counts()\" method:"
      ]
    },
    {
      "metadata": {
        "id": "hrDN5wN802o_",
        "colab_type": "code",
        "colab": {}
      },
      "cell_type": "code",
      "source": [
        "df['num-of-doors'].value_counts()"
      ],
      "execution_count": 0,
      "outputs": []
    },
    {
      "metadata": {
        "id": "MW-Xna9G02pY",
        "colab_type": "text"
      },
      "cell_type": "markdown",
      "source": [
        "We can see that four doors are the most common type. We can also use the \".idxmax()\" method to calculate for us the most common type automatically:"
      ]
    },
    {
      "metadata": {
        "id": "_sIJeIiR02pZ",
        "colab_type": "code",
        "colab": {}
      },
      "cell_type": "code",
      "source": [
        "df['num-of-doors'].value_counts().idxmax()"
      ],
      "execution_count": 0,
      "outputs": []
    },
    {
      "metadata": {
        "id": "cuiOeGom02pb",
        "colab_type": "text"
      },
      "cell_type": "markdown",
      "source": [
        "The replacement procedure is very similar to what we have seen previously"
      ]
    },
    {
      "metadata": {
        "id": "nqbmOj_t02pc",
        "colab_type": "code",
        "colab": {}
      },
      "cell_type": "code",
      "source": [
        "#replace the missing 'num-of-doors' values by the most frequent \n",
        "df[\"num-of-doors\"].replace(np.nan, \"four\", inplace = True)"
      ],
      "execution_count": 0,
      "outputs": []
    },
    {
      "metadata": {
        "id": "Er1fsQfE02pe",
        "colab_type": "text"
      },
      "cell_type": "markdown",
      "source": [
        "Finally, let's drop all rows that do not have price data:"
      ]
    },
    {
      "metadata": {
        "collapsed": true,
        "id": "Hpzm2V7302pf",
        "colab_type": "code",
        "colab": {}
      },
      "cell_type": "code",
      "source": [
        "# simply drop whole row with NaN in \"price\" column\n",
        "df.dropna(subset=[\"price\"], axis=0, inplace = True)\n",
        "\n",
        "# reset index, because we droped two rows\n",
        "df.reset_index(drop = True, inplace = True)"
      ],
      "execution_count": 0,
      "outputs": []
    },
    {
      "metadata": {
        "id": "HIbeEw3V02pi",
        "colab_type": "code",
        "colab": {}
      },
      "cell_type": "code",
      "source": [
        "df.head()"
      ],
      "execution_count": 0,
      "outputs": []
    },
    {
      "metadata": {
        "id": "KiAL-SOM02pj",
        "colab_type": "text"
      },
      "cell_type": "markdown",
      "source": [
        "**Good!** Now, we obtain the dataset with no missing values."
      ]
    },
    {
      "metadata": {
        "id": "ZxlakVk602pk",
        "colab_type": "text"
      },
      "cell_type": "markdown",
      "source": [
        "<a id=\"ref4\"></a>\n",
        "## Correct  data format\n",
        "**We are almost there!**\n",
        "\n",
        "After working with missing data,\n",
        "<div>The last step in data cleaning is checking and making sure that all data is in correct format (int, float, text or other).</div>\n",
        "\n",
        "In Pandas, we use \n",
        "<div>**.dtype()** to check the data type</div>\n",
        "<div>**.astype()** to change the data type</div>"
      ]
    },
    {
      "metadata": {
        "id": "JXNHQwPq02pl",
        "colab_type": "text"
      },
      "cell_type": "markdown",
      "source": [
        "#### Lets list the data types for each column"
      ]
    },
    {
      "metadata": {
        "id": "-NXuZmhL02pl",
        "colab_type": "code",
        "colab": {}
      },
      "cell_type": "code",
      "source": [
        "df.dtypes"
      ],
      "execution_count": 0,
      "outputs": []
    },
    {
      "metadata": {
        "id": "WIeji3As02po",
        "colab_type": "text"
      },
      "cell_type": "markdown",
      "source": [
        "As we can see above, some columns are not in correct data type. Numerical variables should have type 'float' or 'int', and variables with strings as categories should have type 'object'. For example, 'bore' and 'stroke' variables are numerical values that describe the engines, so we should expect them to be of the type 'float' or 'int'; however, they are shown as type 'object'. We have to convert data types into a proper format for each column using the \"astype()\" method.  "
      ]
    },
    {
      "metadata": {
        "id": "Q-5f5YZ802po",
        "colab_type": "text"
      },
      "cell_type": "markdown",
      "source": [
        "#### Convert data types to proper format"
      ]
    },
    {
      "metadata": {
        "id": "kF7ggEaQ02pp",
        "colab_type": "code",
        "colab": {}
      },
      "cell_type": "code",
      "source": [
        "\n",
        "df[[\"bore\", \"stroke\"]] = df[[\"bore\", \"stroke\"]].astype(\"float\")\n",
        "df[[\"normalized-losses\"]] = df[[\"normalized-losses\"]].astype(\"int\")\n",
        "df[[\"price\"]] = df[[\"price\"]].astype(\"float\")\n",
        "df[[\"peak-rpm\"]] = df[[\"peak-rpm\"]].astype(\"float\")\n"
      ],
      "execution_count": 0,
      "outputs": []
    },
    {
      "metadata": {
        "id": "xZ1HKD2I02pr",
        "colab_type": "text"
      },
      "cell_type": "markdown",
      "source": [
        "#### Let us list the columns after the conversion  "
      ]
    },
    {
      "metadata": {
        "id": "1qXracR002pr",
        "colab_type": "code",
        "colab": {}
      },
      "cell_type": "code",
      "source": [
        "df.dtypes"
      ],
      "execution_count": 0,
      "outputs": []
    },
    {
      "metadata": {
        "id": "GxQMc-OR02pt",
        "colab_type": "text"
      },
      "cell_type": "markdown",
      "source": [
        "**Wonderful!**\n",
        "\n",
        "Now, we finally obtain the cleaned dataset with no missing values and all data in its proper format.\n",
        "<div>The cleaned dataset we prepared for any further analysis later.</div>"
      ]
    },
    {
      "metadata": {
        "id": "U6alQ4XP02pt",
        "colab_type": "text"
      },
      "cell_type": "markdown",
      "source": [
        "<a id=\"ref5\"></a>\n",
        "# Data Standardization\n",
        "Data are usually collected from different agencies with different formats.\n",
        "\n",
        "**What is Standardization?**\n",
        "<div>Standardization is the process of transforming data into a common format which allows researcher to make meaningful comparison.\n",
        "</div>\n",
        "\n",
        "**Example**\n",
        "<div>Transform mpg to L/100km:</div>\n",
        "<div>In our dataset, the fuel consupmtion columns \"city-mpg\" and \"highway-mpg\" are represented by mpg (miles per gallon) unit. Assume we are developing an application in a country that accept the fuel consumption with L/100km standard</div>\n",
        "<div>We will need to apply **data transformation** to transform mpg into L/100km?</div>"
      ]
    },
    {
      "metadata": {
        "id": "T8foc_wj02pu",
        "colab_type": "text"
      },
      "cell_type": "markdown",
      "source": [
        "The formula for unit conversion is\n",
        "L/100km = 235 / mpg\n",
        "<div>We can do many mathematical operations directly in Pandas.</div>"
      ]
    },
    {
      "metadata": {
        "id": "rrQzlDGL02pu",
        "colab_type": "code",
        "colab": {}
      },
      "cell_type": "code",
      "source": [
        "df.head()"
      ],
      "execution_count": 0,
      "outputs": []
    },
    {
      "metadata": {
        "id": "To16_l0S02px",
        "colab_type": "code",
        "colab": {}
      },
      "cell_type": "code",
      "source": [
        "# transform mpg to L/100km by mathematical operation (235 divided by mpg)\n",
        "df['city-L/100km'] = 235/df[\"city-mpg\"]\n",
        "\n",
        "# check your transformed data \n",
        "df.head()"
      ],
      "execution_count": 0,
      "outputs": []
    },
    {
      "metadata": {
        "id": "EuMINamt02pz",
        "colab_type": "text"
      },
      "cell_type": "markdown",
      "source": [
        "<div class=\"alert alert-danger alertdanger\" style=\"margin-top: 20px\">\n",
        "<h1> Question  #2: </h1>\n",
        "\n",
        "<b>According to the example above, transform mpg to L/100km in the column of \"highway-mpg\", and change the name of column to \"highway-L/100km\".</b>\n",
        "</div>"
      ]
    },
    {
      "metadata": {
        "id": "Ox7mHqgW02p0",
        "colab_type": "code",
        "colab": {}
      },
      "cell_type": "code",
      "source": [
        ""
      ],
      "execution_count": 0,
      "outputs": []
    },
    {
      "metadata": {
        "id": "_KAoIrrf02p2",
        "colab_type": "text"
      },
      "cell_type": "markdown",
      "source": [
        "<div class=\"alert alert-danger alertdanger\" style=\"margin-top: 20px\">\n",
        "<h1> Question #2 Answer: </h1>\n",
        "<b>Run the code below! Did you get the right code?</b>\n",
        "</div>"
      ]
    },
    {
      "metadata": {
        "id": "csZbkHcw02p2",
        "colab_type": "text"
      },
      "cell_type": "markdown",
      "source": [
        " <div align=\"right\">\n",
        "<a href=\"#q2\" class=\"btn btn-default\" data-toggle=\"collapse\">Click here for the solution</a>\n",
        "\n",
        "</div>\n",
        "<div id=\"q2\" class=\"collapse\">\n",
        "```\n",
        "# transform mpg to L/100km by mathematical operation (235 divided by mpg)\n",
        "df[\"highway-mpg\"] = 235/df[\"highway-mpg\"]\n",
        "\n",
        "# rename column name from \"highway-mpg\" to \"highway-L/100km\"\n",
        "df.rename(columns={'\"highway-mpg\"':'highway-L/100km'}, inplace=True)\n",
        "\n",
        "# check your transformed data \n",
        "df.head()\n",
        "```\n",
        "</div>\n",
        "\n"
      ]
    },
    {
      "metadata": {
        "id": "RQiTFRqO02p3",
        "colab_type": "text"
      },
      "cell_type": "markdown",
      "source": [
        "<a id=\"ref6\"></a>\n",
        "# Data Normalization \n",
        "\n",
        "**Why normalization?**\n",
        "<div>Normalization is the process of transforming values of several variables into a similar range. Typical normalizations include scaling the variable so the variable average is 0, scaling the variable so the variable variance is 1, or scaling variable so the variable values range from 0 to 1\n",
        " </div>\n",
        "\n",
        "**Example**\n",
        "<div>To demonstrate normalization, let's say we want to scale the columns \"length\", \"width\" and \"height\" </div>\n",
        "<div>**Target:** we would like to normalizate those variables so their value range from 0 to 1.</div>\n",
        "<div>**Approach:** replace origianl value by (original value)/(maximum value)</div>"
      ]
    },
    {
      "metadata": {
        "id": "JaSfYPc702p3",
        "colab_type": "code",
        "colab": {}
      },
      "cell_type": "code",
      "source": [
        "# replace (origianl value) by (original value)/(maximum value)\n",
        "df['length'] = df['length']/df['length'].max()\n",
        "df['width'] = df['width']/df['width'].max()"
      ],
      "execution_count": 0,
      "outputs": []
    },
    {
      "metadata": {
        "id": "4EZX-_xb02p5",
        "colab_type": "text"
      },
      "cell_type": "markdown",
      "source": [
        "<div class=\"alert alert-danger alertdanger\" style=\"margin-top: 20px\">\n",
        "<h1> Questiont #3: </h1>\n",
        "\n",
        "<b>According to the example above, normalize the column \"height\".</b>\n",
        "</div>"
      ]
    },
    {
      "metadata": {
        "id": "owjiaUdh02p5",
        "colab_type": "code",
        "colab": {}
      },
      "cell_type": "code",
      "source": [
        "\n"
      ],
      "execution_count": 0,
      "outputs": []
    },
    {
      "metadata": {
        "id": "YblBnmYt02p9",
        "colab_type": "text"
      },
      "cell_type": "markdown",
      "source": [
        "<div class=\"alert alert-danger alertdanger\" style=\"margin-top: 20px\">\n",
        "<h1> Question #3 Answer: </h1>\n",
        "<b>Run the code below! Did you get the right code?</b>\n",
        "</div>"
      ]
    },
    {
      "metadata": {
        "id": "Tl3Lgg9T02p-",
        "colab_type": "text"
      },
      "cell_type": "markdown",
      "source": [
        "<div align=\"right\">\n",
        "<a href=\"#q3\" class=\"btn btn-default\" data-toggle=\"collapse\">Click here for the solution</a>\n",
        "\n",
        "</div>\n",
        "<div id=\"q3\" class=\"collapse\">\n",
        "```\n",
        "df['height'] = df['height']/df['height'].max() \n",
        "# show the scaled columns\n",
        "df[[\"length\",\"width\",\"height\"]].head()\n",
        "\n",
        "```\n",
        "</div>\n"
      ]
    },
    {
      "metadata": {
        "id": "eNdDzSps02p-",
        "colab_type": "text"
      },
      "cell_type": "markdown",
      "source": [
        "Here we can see, we've normalized \"length\", \"width\" and \"height\" in the range of [0,1]."
      ]
    },
    {
      "metadata": {
        "id": "h9dgUqlp02p_",
        "colab_type": "text"
      },
      "cell_type": "markdown",
      "source": [
        "<a id=\"ref7\"></a>\n",
        "#  Binning\n",
        "**Why binning?:** \n",
        "<div>Binning is a process of transforming continuous numerical variables into discrete categorical 'bins', for grouped analysis.\n",
        " </div>\n",
        "\n",
        "**Example:** \n",
        "<div>In our dataset, \"horsepower\" is a real valued variable ranging from 48 to 288,  it has 57 unique values. What if we only care about the price difference between cars with high horsepower, medium horsepower, and little horsepower (3 types)? Can we rearrange them into three  'bins' to simplify analysis? </div>\n",
        "\n",
        "<div>We will use the pandas method 'cut' to segment the 'horsepower' column into 3 bins <div>"
      ]
    },
    {
      "metadata": {
        "id": "RCRpj7oY02p_",
        "colab_type": "text"
      },
      "cell_type": "markdown",
      "source": [
        "## Example of Binning Data In Pandas"
      ]
    },
    {
      "metadata": {
        "id": "Ha-2lOB102qA",
        "colab_type": "text"
      },
      "cell_type": "markdown",
      "source": [
        "#### Convert data to correct format "
      ]
    },
    {
      "metadata": {
        "id": "VLAn3rvy02qB",
        "colab_type": "code",
        "colab": {}
      },
      "cell_type": "code",
      "source": [
        "df[\"horsepower\"]=df[\"horsepower\"].astype(float, copy=True)"
      ],
      "execution_count": 0,
      "outputs": []
    },
    {
      "metadata": {
        "id": "fhWFIMuq02qC",
        "colab_type": "text"
      },
      "cell_type": "markdown",
      "source": [
        "#### We would like four bins of equal size bandwidth,the forth is becase the function \"cut\"  include the rightmost edge:"
      ]
    },
    {
      "metadata": {
        "collapsed": true,
        "id": "gLdVPQjV02qD",
        "colab_type": "code",
        "colab": {}
      },
      "cell_type": "code",
      "source": [
        "binwidth = (max(df[\"horsepower\"])-min(df[\"horsepower\"]))/4"
      ],
      "execution_count": 0,
      "outputs": []
    },
    {
      "metadata": {
        "id": "44ttydtb02qE",
        "colab_type": "text"
      },
      "cell_type": "markdown",
      "source": [
        " We build a bin array, from a minimum value to a maximum value, with bandwidth calculated above.  The bins will be values used to determine when one bin ends and another begins."
      ]
    },
    {
      "metadata": {
        "collapsed": true,
        "id": "BwZl12PH02qF",
        "colab_type": "code",
        "colab": {}
      },
      "cell_type": "code",
      "source": [
        "bins = np.arange(min(df[\"horsepower\"]), max(df[\"horsepower\"]), binwidth)"
      ],
      "execution_count": 0,
      "outputs": []
    },
    {
      "metadata": {
        "id": "GWY3yNCb02qH",
        "colab_type": "code",
        "colab": {}
      },
      "cell_type": "code",
      "source": [
        "bins"
      ],
      "execution_count": 0,
      "outputs": []
    },
    {
      "metadata": {
        "id": "mi9q8oY902qJ",
        "colab_type": "text"
      },
      "cell_type": "markdown",
      "source": [
        "#### We set group or names."
      ]
    },
    {
      "metadata": {
        "collapsed": true,
        "id": "oVqBIXeE02qL",
        "colab_type": "code",
        "colab": {}
      },
      "cell_type": "code",
      "source": [
        "group_names = ['Low', 'Medium', 'High']"
      ],
      "execution_count": 0,
      "outputs": []
    },
    {
      "metadata": {
        "id": "nsrb50t702qM",
        "colab_type": "text"
      },
      "cell_type": "markdown",
      "source": [
        "#### We apply the function \"cut\" the determine what each value of \"df['horsepower']\" belongs to. "
      ]
    },
    {
      "metadata": {
        "id": "xv6VmYtp02qN",
        "colab_type": "code",
        "colab": {}
      },
      "cell_type": "code",
      "source": [
        "df['horsepower-binned'] = pd.cut(df['horsepower'], bins, labels=group_names,include_lowest=True )\n",
        "df[['horsepower','horsepower-binned']].head(20)"
      ],
      "execution_count": 0,
      "outputs": []
    },
    {
      "metadata": {
        "id": "qAnDf-2T02qO",
        "colab_type": "text"
      },
      "cell_type": "markdown",
      "source": [
        "Check the dataframe above carefully, you will find the last column provides the bins for \"horsepower\" with 3 categories (\"Low\",\"Medium\" and \"High\"). \n",
        "<div>We successfully narrow the intervals from 57 to 3!</div>"
      ]
    },
    {
      "metadata": {
        "id": "qQlzqLWh02qQ",
        "colab_type": "text"
      },
      "cell_type": "markdown",
      "source": [
        "## Bins visualization \n",
        "Normally, a histogram is used to visulize the distribution of bins we created above."
      ]
    },
    {
      "metadata": {
        "id": "nbG4TCSX02qQ",
        "colab_type": "code",
        "colab": {}
      },
      "cell_type": "code",
      "source": [
        "%matplotlib inline\n",
        "import matplotlib as plt\n",
        "from matplotlib import pyplot\n",
        "\n",
        "a = (0,1,2)\n",
        "\n",
        "# draw historgram of attribute \"horsepower\" with bins = 3\n",
        "plt.pyplot.hist(df[\"horsepower\"], bins = 3)\n",
        "\n",
        "# set x/y labels and plot title\n",
        "plt.pyplot.xlabel(\"horsepower\")\n",
        "plt.pyplot.ylabel(\"count\")\n",
        "plt.pyplot.title(\"horsepower bins\")"
      ],
      "execution_count": 0,
      "outputs": []
    },
    {
      "metadata": {
        "id": "JG4Ww5X502qT",
        "colab_type": "text"
      },
      "cell_type": "markdown",
      "source": [
        "The plot above shows the binning result for attribute \"horsepower\". "
      ]
    },
    {
      "metadata": {
        "id": "bg5G7pXl02qT",
        "colab_type": "text"
      },
      "cell_type": "markdown",
      "source": [
        "<a id=\"ref8\"></a>\n",
        "# Indicator variable (or dummy variable)\n",
        "**What is indicator variable?**\n",
        "<div>An indicator variable (or dummy variable) is a numerical variable used to label categories. They are called 'dummies' because the numbers themselves don't have inherent meaning. </div>\n",
        "\n",
        "**Why we use indicator variable?**\n",
        "<div>So we can use catogorical variables for regression analysis in later modules.</div>\n",
        "\n",
        "**Example**\n",
        "<div>We see the column \"fuel-type\" has two unique values, \"gas\" or \"diesel\". Regression doesn't understand words, only numbers. In order to use this attribute in regression analysis, we convert \"fuel-type\" into indicator variable.</div>\n",
        "\n",
        "<div>We will use the pandas method 'get_dummies' to assign numerical values to different categories of fuel type. <div>"
      ]
    },
    {
      "metadata": {
        "id": "PsYVqUI302qU",
        "colab_type": "code",
        "colab": {}
      },
      "cell_type": "code",
      "source": [
        "df.columns"
      ],
      "execution_count": 0,
      "outputs": []
    },
    {
      "metadata": {
        "id": "cL2MDVtc02qW",
        "colab_type": "code",
        "colab": {}
      },
      "cell_type": "code",
      "source": [
        "# get indicator variables and assign it to data frame \"dummy_variable_1\"\n",
        "dummy_variable_1 = pd.get_dummies(df[\"fuel-type\"])\n",
        "\n",
        "# change column names for clarity\n",
        "dummy_variable_1.rename(columns={'fuel-type-diesel':'gas', 'fuel-type-diesel':'diesel'}, inplace=True)\n",
        "\n",
        "# show first 5 instances of data frame \"dummy_variable_1\"\n",
        "dummy_variable_1.head()"
      ],
      "execution_count": 0,
      "outputs": []
    },
    {
      "metadata": {
        "id": "qKfwMV6R02qX",
        "colab_type": "text"
      },
      "cell_type": "markdown",
      "source": [
        "We now have the value 0 to represent \"gas\" and 1 to represent \"diesel\" in the column \"fuel-type\". We will now insert this column back into our original dataset"
      ]
    },
    {
      "metadata": {
        "id": "d2kg834n02qY",
        "colab_type": "code",
        "colab": {}
      },
      "cell_type": "code",
      "source": [
        "# merge data frame \"df\" and \"dummy_variable_1\" \n",
        "df = pd.concat([df, dummy_variable_1], axis=1)\n",
        "\n",
        "# drop original column \"fuel-type\" from \"df\"\n",
        "df.drop(\"fuel-type\", axis = 1, inplace=True)"
      ],
      "execution_count": 0,
      "outputs": []
    },
    {
      "metadata": {
        "id": "Lqss_0aF02qb",
        "colab_type": "code",
        "colab": {}
      },
      "cell_type": "code",
      "source": [
        "df.head()"
      ],
      "execution_count": 0,
      "outputs": []
    },
    {
      "metadata": {
        "id": "2qHOEm2y02qd",
        "colab_type": "text"
      },
      "cell_type": "markdown",
      "source": [
        "The last two columns are now the indicator variable representation of the fuel-type variable. It's all 0s and 1s now."
      ]
    },
    {
      "metadata": {
        "id": "1lhdvCOS02qd",
        "colab_type": "text"
      },
      "cell_type": "markdown",
      "source": [
        "<div class=\"alert alert-danger alertdanger\" style=\"margin-top: 20px\">\n",
        "<h1> Question  #4: </h1>\n",
        "\n",
        "<b>As above, create indicator variable to the column of \"aspiration\": \"std\" to 0, while \"turbo\" to 1.</b>\n",
        "</div>"
      ]
    },
    {
      "metadata": {
        "id": "vO8PmkFY02qd",
        "colab_type": "code",
        "colab": {}
      },
      "cell_type": "code",
      "source": [
        "\n"
      ],
      "execution_count": 0,
      "outputs": []
    },
    {
      "metadata": {
        "id": "Nz27U6KE02qg",
        "colab_type": "text"
      },
      "cell_type": "markdown",
      "source": [
        "<div class=\"alert alert-danger alertdanger\" style=\"margin-top: 20px\">\n",
        "<h1> Question #4 Answer: </h1>\n",
        "<b>Run the code below! Did you get the right code?</b>\n",
        "</div>"
      ]
    },
    {
      "metadata": {
        "id": "exFEQCDm02qh",
        "colab_type": "text"
      },
      "cell_type": "markdown",
      "source": [
        "<div align=\"right\">\n",
        "<a href=\"#q4\" class=\"btn btn-default\" data-toggle=\"collapse\">Click here for the solution</a>\n",
        "\n",
        "</div>\n",
        "<div id=\"q4\" class=\"collapse\">\n",
        "```\n",
        "# get indicator variables of aspiration and assign it to data frame \"dummy_variable_2\"\n",
        "dummy_variable_2 = pd.get_dummies(df['aspiration'])\n",
        "\n",
        "# change column names for clarity\n",
        "dummy_variable_2.rename(columns={'std':'aspiration-std', 'turbo': 'aspiration-turbo'}, inplace=True)\n",
        "\n",
        "# show first 5 instances of data frame \"dummy_variable_1\"\n",
        "dummy_variable_2.head()\n",
        "```\n",
        "</div>\n",
        "\n"
      ]
    },
    {
      "metadata": {
        "id": "F28IHV8102qi",
        "colab_type": "text"
      },
      "cell_type": "markdown",
      "source": [
        " <div class=\"alert alert-danger alertdanger\" style=\"margin-top: 20px\">\n",
        "<h1> Question  #5: </h1>\n",
        "\n",
        "<b>Merge the new dataframe to the original dataframe then drop the column 'aspiration'</b>\n",
        "</div>"
      ]
    },
    {
      "metadata": {
        "id": "Jt6gt2zi02ql",
        "colab_type": "code",
        "colab": {}
      },
      "cell_type": "code",
      "source": [
        ""
      ],
      "execution_count": 0,
      "outputs": []
    },
    {
      "metadata": {
        "id": "9fBvkF8x02qm",
        "colab_type": "text"
      },
      "cell_type": "markdown",
      "source": [
        " <div class=\"alert alert-danger alertdanger\" style=\"margin-top: 20px\">\n",
        "<h1> Question #5 Answer: </h1>\n",
        "<b>Run the code below! Did you get the right code?</b>\n",
        "</div>"
      ]
    },
    {
      "metadata": {
        "id": "ZTegjxX902qn",
        "colab_type": "text"
      },
      "cell_type": "markdown",
      "source": [
        " <div align=\"right\">\n",
        "<a href=\"#q5\" class=\"btn btn-default\" data-toggle=\"collapse\">Click here for the solution</a>\n",
        "\n",
        "</div>\n",
        "<div id=\"q5\" class=\"collapse\">\n",
        "```\n",
        "#merge the new dataframe to the original datafram\n",
        "df = pd.concat([df, dummy_variable_2], axis=1)\n",
        "\n",
        "# drop original column \"aspiration\" from \"df\"\n",
        "df.drop('aspiration', axis = 1, inplace=True)\n",
        "```\n",
        "</div>\n",
        "\n",
        "\n",
        "\n",
        "\n",
        "\n",
        "\n",
        "\n"
      ]
    },
    {
      "metadata": {
        "id": "UE5mWXrz02qn",
        "colab_type": "text"
      },
      "cell_type": "markdown",
      "source": [
        " save the new csv "
      ]
    },
    {
      "metadata": {
        "id": "VpxS-q-d02qo",
        "colab_type": "code",
        "colab": {}
      },
      "cell_type": "code",
      "source": [
        "df.to_csv('clean_df.csv')"
      ],
      "execution_count": 0,
      "outputs": []
    }
  ]
}